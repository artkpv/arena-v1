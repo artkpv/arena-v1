{
 "cells": [
  {
   "cell_type": "code",
   "execution_count": 1,
   "id": "fd4a8a13-7de9-48b9-92e0-d893e66a0c50",
   "metadata": {},
   "outputs": [],
   "source": [
    "import torch as t\n",
    "import numpy as np\n",
    "import utils"
   ]
  },
  {
   "cell_type": "code",
   "execution_count": 2,
   "id": "78a33aeb-446b-42ee-81d4-5ed97769de3e",
   "metadata": {},
   "outputs": [],
   "source": [
    "test_input = t.tensor(\n",
    "    [[0, 1, 2, 3, 4], \n",
    "    [5, 6, 7, 8, 9], \n",
    "    [10, 11, 12, 13, 14], \n",
    "    [15, 16, 17, 18, 19]], dtype=t.float\n",
    ")"
   ]
  },
  {
   "cell_type": "code",
   "execution_count": null,
   "id": "a626aee3-c8a3-4f5a-a92d-89b87aba8b70",
   "metadata": {},
   "outputs": [],
   "source": [
    "test_input"
   ]
  }
 ],
 "metadata": {
  "kernelspec": {
   "display_name": "Python 3 (ipykernel)",
   "language": "python",
   "name": "python3"
  },
  "language_info": {
   "codemirror_mode": {
    "name": "ipython",
    "version": 3
   },
   "file_extension": ".py",
   "mimetype": "text/x-python",
   "name": "python",
   "nbconvert_exporter": "python",
   "pygments_lexer": "ipython3",
   "version": "3.10.8"
  }
 },
 "nbformat": 4,
 "nbformat_minor": 5
}
